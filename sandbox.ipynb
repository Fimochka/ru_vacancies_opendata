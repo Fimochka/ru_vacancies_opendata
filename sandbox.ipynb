{
 "cells": [
  {
   "cell_type": "markdown",
   "id": "17b37423",
   "metadata": {},
   "source": [
    "источник данных - Вакансии всех регионов России из ЕЦП «Работа в России» (https://trudvsem.ru/opendata/api)\n",
    "\n",
    "### На какие вопросы можно ответить?\n",
    "\n",
    "1. какое распределение вакансий по регионам? Абсолютные цифры и на душу населения\n",
    "2. в каких регионах требуется больше специалистов с ученой степенью?\n",
    "3. какое распределение вакансий по категориям и регионам?\n",
    "4. средние зарплаты?\n",
    "5. динамика зарплат по времени?\n",
    "6. в каких категориях не указывают зарплаты?\n",
    "\n",
    "и т.д.100500 вопросов можно придумать)\n",
    "\n",
    "Также можно будет посмотреть исторические данные и попытаться ответить на вопрос, повлияло ли как-то то или иное событие на рынок вакансий.\n",
    "\n",
    "\n",
    "### Что предлагается сделать?\n",
    "\n",
    "Написать приложение, которое будет:\n",
    "1. скачивать периодически данные из https://trudvsem.ru/opendata/api и сохранять в БД\n",
    "2. визуализировать данные в BI системе (различные срезы, сегменты и по времени)\n",
    "\n",
    "Инструменты:\n",
    "1. clickhouse\n",
    "2. airflow\n",
    "3. grafana/datalens\n",
    "4. python/jupyter notebook\n",
    "5. docker"
   ]
  },
  {
   "cell_type": "markdown",
   "id": "24da0d98",
   "metadata": {},
   "source": [
    "Загрузим для примера 10к записей"
   ]
  },
  {
   "cell_type": "code",
   "execution_count": 22,
   "id": "63ca50b4",
   "metadata": {},
   "outputs": [
    {
     "data": {
      "text/html": [
       "<div>\n",
       "<style scoped>\n",
       "    .dataframe tbody tr th:only-of-type {\n",
       "        vertical-align: middle;\n",
       "    }\n",
       "\n",
       "    .dataframe tbody tr th {\n",
       "        vertical-align: top;\n",
       "    }\n",
       "\n",
       "    .dataframe thead th {\n",
       "        text-align: right;\n",
       "    }\n",
       "</style>\n",
       "<table border=\"1\" class=\"dataframe\">\n",
       "  <thead>\n",
       "    <tr style=\"text-align: right;\">\n",
       "      <th></th>\n",
       "      <th>id</th>\n",
       "      <th>source</th>\n",
       "      <th>region</th>\n",
       "      <th>company</th>\n",
       "      <th>creation-date</th>\n",
       "      <th>salary</th>\n",
       "      <th>salary_min</th>\n",
       "      <th>salary_max</th>\n",
       "      <th>job-name</th>\n",
       "      <th>vac_url</th>\n",
       "      <th>...</th>\n",
       "      <th>contact_person</th>\n",
       "      <th>work_places</th>\n",
       "      <th>code_profession</th>\n",
       "      <th>currency</th>\n",
       "      <th>term</th>\n",
       "      <th>company_name</th>\n",
       "      <th>companycode</th>\n",
       "      <th>hr-agency</th>\n",
       "      <th>region_name</th>\n",
       "      <th>specialisation</th>\n",
       "    </tr>\n",
       "  </thead>\n",
       "  <tbody>\n",
       "    <tr>\n",
       "      <th>0</th>\n",
       "      <td>2be29788-0f4e-11ee-b544-0d972cff014f</td>\n",
       "      <td>Работодатель</td>\n",
       "      <td>{'region_code': '3100000000000', 'name': 'Белг...</td>\n",
       "      <td>{'companycode': '1163668085570', 'email': 's_k...</td>\n",
       "      <td>2023-06-20</td>\n",
       "      <td>от 16500</td>\n",
       "      <td>16500</td>\n",
       "      <td>25000</td>\n",
       "      <td>продавец (с. Шаталовка)</td>\n",
       "      <td>https://trudvsem.ru/vacancy/card/1163668085570...</td>\n",
       "      <td>...</td>\n",
       "      <td>Инна Олеговна</td>\n",
       "      <td>1</td>\n",
       "      <td>173534</td>\n",
       "      <td>«руб.»</td>\n",
       "      <td>NaN</td>\n",
       "      <td>ООО \"ВОЗРОЖДЕНИЕ\"</td>\n",
       "      <td>1163668085570</td>\n",
       "      <td>False</td>\n",
       "      <td>Белгородская область</td>\n",
       "      <td>Продажи, закупки, снабжение, торговля</td>\n",
       "    </tr>\n",
       "    <tr>\n",
       "      <th>1</th>\n",
       "      <td>e0c91fe3-edba-11ec-9f7d-bf2cfe8c828d</td>\n",
       "      <td>Работодатель</td>\n",
       "      <td>{'region_code': '4200000000000', 'name': 'Кеме...</td>\n",
       "      <td>{'companycode': '1024201475000', 'email': 'nar...</td>\n",
       "      <td>2022-06-17</td>\n",
       "      <td>от 31000</td>\n",
       "      <td>31000</td>\n",
       "      <td>0</td>\n",
       "      <td>Фельдшер</td>\n",
       "      <td>https://trudvsem.ru/vacancy/card/1024201475000...</td>\n",
       "      <td>...</td>\n",
       "      <td>Матковская Наталья Александровна</td>\n",
       "      <td>1</td>\n",
       "      <td>273287</td>\n",
       "      <td>«руб.»</td>\n",
       "      <td>{'text': 'Социальный пакет'}</td>\n",
       "      <td>ГБУЗ ННД</td>\n",
       "      <td>1024201475000</td>\n",
       "      <td>False</td>\n",
       "      <td>Кемеровская область - Кузбасс</td>\n",
       "      <td>Здравоохранение и социальное обеспечение</td>\n",
       "    </tr>\n",
       "    <tr>\n",
       "      <th>2</th>\n",
       "      <td>e0c10993-edba-11ec-9f7d-bf2cfe8c828d</td>\n",
       "      <td>Работодатель</td>\n",
       "      <td>{'region_code': '4200000000000', 'name': 'Кеме...</td>\n",
       "      <td>{'companycode': '1024201475000', 'email': 'nar...</td>\n",
       "      <td>2022-06-17</td>\n",
       "      <td>от 26000</td>\n",
       "      <td>26000</td>\n",
       "      <td>0</td>\n",
       "      <td>Медицинская сестра палатная (постовая)</td>\n",
       "      <td>https://trudvsem.ru/vacancy/card/1024201475000...</td>\n",
       "      <td>...</td>\n",
       "      <td>Матковская Наталья Александровна</td>\n",
       "      <td>3</td>\n",
       "      <td>240387</td>\n",
       "      <td>«руб.»</td>\n",
       "      <td>{'text': 'Социальный пакет'}</td>\n",
       "      <td>ГБУЗ ННД</td>\n",
       "      <td>1024201475000</td>\n",
       "      <td>False</td>\n",
       "      <td>Кемеровская область - Кузбасс</td>\n",
       "      <td>Здравоохранение и социальное обеспечение</td>\n",
       "    </tr>\n",
       "  </tbody>\n",
       "</table>\n",
       "<p>3 rows × 28 columns</p>\n",
       "</div>"
      ],
      "text/plain": [
       "                                     id        source  \\\n",
       "0  2be29788-0f4e-11ee-b544-0d972cff014f  Работодатель   \n",
       "1  e0c91fe3-edba-11ec-9f7d-bf2cfe8c828d  Работодатель   \n",
       "2  e0c10993-edba-11ec-9f7d-bf2cfe8c828d  Работодатель   \n",
       "\n",
       "                                              region  \\\n",
       "0  {'region_code': '3100000000000', 'name': 'Белг...   \n",
       "1  {'region_code': '4200000000000', 'name': 'Кеме...   \n",
       "2  {'region_code': '4200000000000', 'name': 'Кеме...   \n",
       "\n",
       "                                             company creation-date    salary  \\\n",
       "0  {'companycode': '1163668085570', 'email': 's_k...    2023-06-20  от 16500   \n",
       "1  {'companycode': '1024201475000', 'email': 'nar...    2022-06-17  от 31000   \n",
       "2  {'companycode': '1024201475000', 'email': 'nar...    2022-06-17  от 26000   \n",
       "\n",
       "   salary_min  salary_max                                job-name  \\\n",
       "0       16500       25000                 продавец (с. Шаталовка)   \n",
       "1       31000           0                                Фельдшер   \n",
       "2       26000           0  Медицинская сестра палатная (постовая)   \n",
       "\n",
       "                                             vac_url  ...  \\\n",
       "0  https://trudvsem.ru/vacancy/card/1163668085570...  ...   \n",
       "1  https://trudvsem.ru/vacancy/card/1024201475000...  ...   \n",
       "2  https://trudvsem.ru/vacancy/card/1024201475000...  ...   \n",
       "\n",
       "                     contact_person work_places code_profession currency  \\\n",
       "0                     Инна Олеговна           1          173534   «руб.»   \n",
       "1  Матковская Наталья Александровна           1          273287   «руб.»   \n",
       "2  Матковская Наталья Александровна           3          240387   «руб.»   \n",
       "\n",
       "                           term       company_name    companycode hr-agency  \\\n",
       "0                           NaN  ООО \"ВОЗРОЖДЕНИЕ\"  1163668085570     False   \n",
       "1  {'text': 'Социальный пакет'}           ГБУЗ ННД  1024201475000     False   \n",
       "2  {'text': 'Социальный пакет'}           ГБУЗ ННД  1024201475000     False   \n",
       "\n",
       "                     region_name                            specialisation  \n",
       "0           Белгородская область     Продажи, закупки, снабжение, торговля  \n",
       "1  Кемеровская область - Кузбасс  Здравоохранение и социальное обеспечение  \n",
       "2  Кемеровская область - Кузбасс  Здравоохранение и социальное обеспечение  \n",
       "\n",
       "[3 rows x 28 columns]"
      ]
     },
     "execution_count": 22,
     "metadata": {},
     "output_type": "execute_result"
    }
   ],
   "source": [
    "import requests\n",
    "import pandas as pd\n",
    "\n",
    "\n",
    "url = 'http://opendata.trudvsem.ru/api/v1/vacancies'\n",
    "data = requests.get(url)\n",
    "data = [vac['vacancy'] for vac in data.json()['results']['vacancies']]\n",
    "data = pd.DataFrame.from_dict(data, orient='columns')\n",
    "# adding company attributes\n",
    "data['company_name'] = data['company'].apply(lambda x: x['name'], 1)\n",
    "data['companycode'] = data['company'].apply(lambda x: x['companycode'], 1)\n",
    "data['hr-agency'] = data['company'].apply(lambda x: x['hr-agency'], 1)\n",
    "# adding region name\n",
    "data['region_name'] = data['region'].apply(lambda x: x['name'], 1)\n",
    "# adding specialization\n",
    "data['specialisation'] = data['category'].apply(lambda x: x['specialisation'], 1)\n",
    "data.head(3)"
   ]
  },
  {
   "cell_type": "code",
   "execution_count": 23,
   "id": "f6e0942a",
   "metadata": {},
   "outputs": [
    {
     "data": {
      "text/plain": [
       "Index(['id', 'source', 'region', 'company', 'creation-date', 'salary',\n",
       "       'salary_min', 'salary_max', 'job-name', 'vac_url', 'employment',\n",
       "       'schedule', 'duty', 'category', 'requirement', 'addresses',\n",
       "       'social_protected', 'contact_list', 'contact_person', 'work_places',\n",
       "       'code_profession', 'currency', 'term', 'company_name', 'companycode',\n",
       "       'hr-agency', 'region_name', 'specialisation'],\n",
       "      dtype='object')"
      ]
     },
     "execution_count": 23,
     "metadata": {},
     "output_type": "execute_result"
    }
   ],
   "source": [
    "data.columns"
   ]
  },
  {
   "cell_type": "code",
   "execution_count": 25,
   "id": "f58930d7",
   "metadata": {},
   "outputs": [
    {
     "data": {
      "text/plain": [
       "Здравоохранение и социальное обеспечение                 42\n",
       "Производство                                             19\n",
       "Транспорт, автобизнес, логистика, склад, ВЭД             11\n",
       "Образование, наука                                        8\n",
       "Рабочие специальности                                     5\n",
       "Продажи, закупки, снабжение, торговля                     4\n",
       "Государственная служба, некоммерческие организации        3\n",
       "Туризм, гостиницы, рестораны                              2\n",
       "Банки, кредит, страхование, пенсионное обеспечение        1\n",
       "Химическая, нефтехимическая, топливная промышленность     1\n",
       "Легкая промышленность                                     1\n",
       "Строительство, ремонт, стройматериалы, недвижимость       1\n",
       "Кадровая служба, управление персоналом                    1\n",
       "Пищевая промышленность                                    1\n",
       "Name: specialisation, dtype: int64"
      ]
     },
     "execution_count": 25,
     "metadata": {},
     "output_type": "execute_result"
    }
   ],
   "source": [
    "data['specialisation'].value_counts()"
   ]
  },
  {
   "cell_type": "code",
   "execution_count": 26,
   "id": "6b813d5a",
   "metadata": {},
   "outputs": [
    {
     "data": {
      "text/plain": [
       "Полная занятость       92\n",
       "Временная               7\n",
       "Частичная занятость     1\n",
       "Name: employment, dtype: int64"
      ]
     },
     "execution_count": 26,
     "metadata": {},
     "output_type": "execute_result"
    }
   ],
   "source": [
    "data['employment'].value_counts()"
   ]
  },
  {
   "cell_type": "code",
   "execution_count": 28,
   "id": "9363224f",
   "metadata": {},
   "outputs": [
    {
     "data": {
      "text/plain": [
       "18"
      ]
     },
     "execution_count": 28,
     "metadata": {},
     "output_type": "execute_result"
    }
   ],
   "source": [
    "data['company_name'].nunique()"
   ]
  },
  {
   "cell_type": "code",
   "execution_count": null,
   "id": "c04d822f",
   "metadata": {},
   "outputs": [],
   "source": []
  }
 ],
 "metadata": {
  "kernelspec": {
   "display_name": "Python 3",
   "language": "python",
   "name": "python3"
  },
  "language_info": {
   "codemirror_mode": {
    "name": "ipython",
    "version": 3
   },
   "file_extension": ".py",
   "mimetype": "text/x-python",
   "name": "python",
   "nbconvert_exporter": "python",
   "pygments_lexer": "ipython3",
   "version": "3.8.8"
  }
 },
 "nbformat": 4,
 "nbformat_minor": 5
}
