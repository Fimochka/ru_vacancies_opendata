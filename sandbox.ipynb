{
 "cells": [
  {
   "cell_type": "markdown",
   "id": "17b37423",
   "metadata": {},
   "source": [
    "источник данных - Вакансии всех регионов России из ЕЦП «Работа в России» (https://trudvsem.ru/opendata/api)\n",
    "\n",
    "### На какие вопросы можно ответить?\n",
    "\n",
    "1. какое распределение вакансий по регионам? Абсолютные цифры и на душу населения\n",
    "2. в каких регионах требуется больше специалистов с ученой степенью?\n",
    "3. какое распределение вакансий по категориям и регионам?\n",
    "4. средние зарплаты?\n",
    "5. динамика зарплат по времени?\n",
    "6. в каких категориях не указывают зарплаты?\n",
    "\n",
    "и т.д.100500 вопросов можно придумать)\n",
    "\n",
    "Также можно будет посмотреть исторические данные и попытаться ответить на вопрос, повлияло ли как-то то или иное событие на рынок вакансий.\n",
    "\n",
    "\n",
    "### Что предлагается сделать?\n",
    "\n",
    "Написать приложение, которое будет:\n",
    "1. скачивать периодически данные из https://trudvsem.ru/opendata/api и сохранять в БД\n",
    "2. визуализировать данные в BI системе (различные срезы, сегменты и по времени)\n",
    "\n",
    "Инструменты:\n",
    "1. clickhouse\n",
    "2. airflow\n",
    "3. grafana/datalens\n",
    "4. python/jupyter notebook\n",
    "5. docker"
   ]
  },
  {
   "cell_type": "markdown",
   "id": "24da0d98",
   "metadata": {},
   "source": [
    "Загрузим для примера 10к записей"
   ]
  },
  {
   "cell_type": "code",
   "execution_count": 1,
   "id": "63ca50b4",
   "metadata": {},
   "outputs": [
    {
     "data": {
      "text/html": [
       "<div>\n",
       "<style scoped>\n",
       "    .dataframe tbody tr th:only-of-type {\n",
       "        vertical-align: middle;\n",
       "    }\n",
       "\n",
       "    .dataframe tbody tr th {\n",
       "        vertical-align: top;\n",
       "    }\n",
       "\n",
       "    .dataframe thead th {\n",
       "        text-align: right;\n",
       "    }\n",
       "</style>\n",
       "<table border=\"1\" class=\"dataframe\">\n",
       "  <thead>\n",
       "    <tr style=\"text-align: right;\">\n",
       "      <th></th>\n",
       "      <th>id</th>\n",
       "      <th>source</th>\n",
       "      <th>region</th>\n",
       "      <th>company</th>\n",
       "      <th>creation-date</th>\n",
       "      <th>job-name</th>\n",
       "      <th>vac_url</th>\n",
       "      <th>employment</th>\n",
       "      <th>schedule</th>\n",
       "      <th>duty</th>\n",
       "      <th>...</th>\n",
       "      <th>salary_max</th>\n",
       "      <th>salary_min</th>\n",
       "      <th>salary</th>\n",
       "      <th>code_profession</th>\n",
       "      <th>term</th>\n",
       "      <th>company_name</th>\n",
       "      <th>companycode</th>\n",
       "      <th>hr-agency</th>\n",
       "      <th>region_name</th>\n",
       "      <th>specialisation</th>\n",
       "    </tr>\n",
       "  </thead>\n",
       "  <tbody>\n",
       "    <tr>\n",
       "      <th>0</th>\n",
       "      <td>6755f691-a00d-11ee-9e7c-3950de1bc4b3</td>\n",
       "      <td>Вакансия интернет ресурса</td>\n",
       "      <td>{'region_code': '6100000000000', 'name': 'Рост...</td>\n",
       "      <td>{'companycode': '7226c750-02f1-11eb-8600-bfd13...</td>\n",
       "      <td>2023-12-21</td>\n",
       "      <td>Персональный брокер</td>\n",
       "      <td>https://trudvsem.ru/vacancy/card/7226c750-02f1...</td>\n",
       "      <td>Полная занятость</td>\n",
       "      <td>Полный рабочий день</td>\n",
       "      <td>&lt;p&gt;БКС Мир инвестиций – международная инвестиц...</td>\n",
       "      <td>...</td>\n",
       "      <td>0</td>\n",
       "      <td>0</td>\n",
       "      <td>NaN</td>\n",
       "      <td>NaN</td>\n",
       "      <td>NaN</td>\n",
       "      <td>Компания БКС</td>\n",
       "      <td>7226c750-02f1-11eb-8600-bfd13399602c</td>\n",
       "      <td>False</td>\n",
       "      <td>Ростовская область</td>\n",
       "      <td>Продажи, закупки, снабжение, торговля</td>\n",
       "    </tr>\n",
       "    <tr>\n",
       "      <th>1</th>\n",
       "      <td>c5b4aed5-5c3c-11ee-a343-a9b9135e650a</td>\n",
       "      <td>Работодатель</td>\n",
       "      <td>{'region_code': '4300000000000', 'name': 'Киро...</td>\n",
       "      <td>{'companycode': '5b36bee0-b665-11ed-974a-91f5d...</td>\n",
       "      <td>2023-09-26</td>\n",
       "      <td>Маляр</td>\n",
       "      <td>https://trudvsem.ru/vacancy/card/5b36bee0-b665...</td>\n",
       "      <td>Полная занятость</td>\n",
       "      <td>Полный рабочий день</td>\n",
       "      <td>&lt;p&gt;Подготовка поверхностей к окрашиванию,&amp;nbsp...</td>\n",
       "      <td>...</td>\n",
       "      <td>0</td>\n",
       "      <td>22129</td>\n",
       "      <td>от 22129</td>\n",
       "      <td>134506</td>\n",
       "      <td>NaN</td>\n",
       "      <td>Филиал ФГБУ 48 Центральный научно-исследовател...</td>\n",
       "      <td>5b36bee0-b665-11ed-974a-91f5d381286a</td>\n",
       "      <td>False</td>\n",
       "      <td>Кировская область</td>\n",
       "      <td>Строительство, ремонт, стройматериалы, недвижи...</td>\n",
       "    </tr>\n",
       "    <tr>\n",
       "      <th>2</th>\n",
       "      <td>619d2385-8aa1-11ee-8322-e7d0d2cf29b1</td>\n",
       "      <td>Работодатель</td>\n",
       "      <td>{'region_code': '3100000000000', 'name': 'Белг...</td>\n",
       "      <td>{'companycode': '1023101678500', 'email': 'mdo...</td>\n",
       "      <td>2023-11-24</td>\n",
       "      <td>Преподаватель шахматного кружка на платной основе</td>\n",
       "      <td>https://trudvsem.ru/vacancy/card/1023101678500...</td>\n",
       "      <td>Частичная занятость</td>\n",
       "      <td>Гибкий график</td>\n",
       "      <td>&lt;p&gt;Проведение с воспитанниками ДОУ кружка по ш...</td>\n",
       "      <td>...</td>\n",
       "      <td>19242</td>\n",
       "      <td>19242</td>\n",
       "      <td>от 19242</td>\n",
       "      <td>258179</td>\n",
       "      <td>NaN</td>\n",
       "      <td>МБДОУ Д/С № 64</td>\n",
       "      <td>1023101678500</td>\n",
       "      <td>False</td>\n",
       "      <td>Белгородская область</td>\n",
       "      <td>Образование, наука</td>\n",
       "    </tr>\n",
       "  </tbody>\n",
       "</table>\n",
       "<p>3 rows × 28 columns</p>\n",
       "</div>"
      ],
      "text/plain": [
       "                                     id                     source  \\\n",
       "0  6755f691-a00d-11ee-9e7c-3950de1bc4b3  Вакансия интернет ресурса   \n",
       "1  c5b4aed5-5c3c-11ee-a343-a9b9135e650a               Работодатель   \n",
       "2  619d2385-8aa1-11ee-8322-e7d0d2cf29b1               Работодатель   \n",
       "\n",
       "                                              region  \\\n",
       "0  {'region_code': '6100000000000', 'name': 'Рост...   \n",
       "1  {'region_code': '4300000000000', 'name': 'Киро...   \n",
       "2  {'region_code': '3100000000000', 'name': 'Белг...   \n",
       "\n",
       "                                             company creation-date  \\\n",
       "0  {'companycode': '7226c750-02f1-11eb-8600-bfd13...    2023-12-21   \n",
       "1  {'companycode': '5b36bee0-b665-11ed-974a-91f5d...    2023-09-26   \n",
       "2  {'companycode': '1023101678500', 'email': 'mdo...    2023-11-24   \n",
       "\n",
       "                                            job-name  \\\n",
       "0                                Персональный брокер   \n",
       "1                                              Маляр   \n",
       "2  Преподаватель шахматного кружка на платной основе   \n",
       "\n",
       "                                             vac_url           employment  \\\n",
       "0  https://trudvsem.ru/vacancy/card/7226c750-02f1...     Полная занятость   \n",
       "1  https://trudvsem.ru/vacancy/card/5b36bee0-b665...     Полная занятость   \n",
       "2  https://trudvsem.ru/vacancy/card/1023101678500...  Частичная занятость   \n",
       "\n",
       "              schedule                                               duty  \\\n",
       "0  Полный рабочий день  <p>БКС Мир инвестиций – международная инвестиц...   \n",
       "1  Полный рабочий день  <p>Подготовка поверхностей к окрашиванию,&nbsp...   \n",
       "2        Гибкий график  <p>Проведение с воспитанниками ДОУ кружка по ш...   \n",
       "\n",
       "   ... salary_max salary_min    salary code_profession term  \\\n",
       "0  ...          0          0       NaN             NaN  NaN   \n",
       "1  ...          0      22129  от 22129          134506  NaN   \n",
       "2  ...      19242      19242  от 19242          258179  NaN   \n",
       "\n",
       "                                        company_name  \\\n",
       "0                                       Компания БКС   \n",
       "1  Филиал ФГБУ 48 Центральный научно-исследовател...   \n",
       "2                                     МБДОУ Д/С № 64   \n",
       "\n",
       "                            companycode hr-agency           region_name  \\\n",
       "0  7226c750-02f1-11eb-8600-bfd13399602c     False    Ростовская область   \n",
       "1  5b36bee0-b665-11ed-974a-91f5d381286a     False     Кировская область   \n",
       "2                         1023101678500     False  Белгородская область   \n",
       "\n",
       "                                      specialisation  \n",
       "0              Продажи, закупки, снабжение, торговля  \n",
       "1  Строительство, ремонт, стройматериалы, недвижи...  \n",
       "2                                 Образование, наука  \n",
       "\n",
       "[3 rows x 28 columns]"
      ]
     },
     "execution_count": 1,
     "metadata": {},
     "output_type": "execute_result"
    }
   ],
   "source": [
    "import requests\n",
    "import pandas as pd\n",
    "\n",
    "\n",
    "url = 'http://opendata.trudvsem.ru/api/v1/vacancies'\n",
    "data = requests.get(url)\n",
    "data = [vac['vacancy'] for vac in data.json()['results']['vacancies']]\n",
    "data = pd.DataFrame.from_dict(data, orient='columns')\n",
    "# adding company attributes\n",
    "data['company_name'] = data['company'].apply(lambda x: x['name'], 1)\n",
    "data['companycode'] = data['company'].apply(lambda x: x['companycode'], 1)\n",
    "data['hr-agency'] = data['company'].apply(lambda x: x['hr-agency'], 1)\n",
    "# adding region name\n",
    "data['region_name'] = data['region'].apply(lambda x: x['name'], 1)\n",
    "# adding specialization\n",
    "data['specialisation'] = data['category'].apply(lambda x: x['specialisation'], 1)\n",
    "data.head(3)"
   ]
  },
  {
   "cell_type": "code",
   "execution_count": 2,
   "id": "f6e0942a",
   "metadata": {},
   "outputs": [
    {
     "data": {
      "text/plain": [
       "Index(['id', 'source', 'region', 'company', 'creation-date', 'job-name',\n",
       "       'vac_url', 'employment', 'schedule', 'duty', 'category', 'requirement',\n",
       "       'addresses', 'social_protected', 'contact_list', 'contact_person',\n",
       "       'work_places', 'currency', 'salary_max', 'salary_min', 'salary',\n",
       "       'code_profession', 'term', 'company_name', 'companycode', 'hr-agency',\n",
       "       'region_name', 'specialisation'],\n",
       "      dtype='object')"
      ]
     },
     "execution_count": 2,
     "metadata": {},
     "output_type": "execute_result"
    }
   ],
   "source": [
    "data.columns"
   ]
  },
  {
   "cell_type": "code",
   "execution_count": 3,
   "id": "f58930d7",
   "metadata": {},
   "outputs": [
    {
     "data": {
      "text/plain": [
       "Здравоохранение и социальное обеспечение               41\n",
       "Производство                                           14\n",
       "Образование, наука                                      9\n",
       "Транспорт, автобизнес, логистика, склад, ВЭД            9\n",
       "Продажи, закупки, снабжение, торговля                   7\n",
       "Туризм, гостиницы, рестораны                            5\n",
       "Строительство, ремонт, стройматериалы, недвижимость     4\n",
       "Рабочие специальности                                   3\n",
       "Информационные технологии, телекоммуникации, связь      2\n",
       "Искусство, культура и развлечения                       2\n",
       "Работы, не требующие квалификации                       1\n",
       "Государственная служба, некоммерческие организации      1\n",
       "Пищевая промышленность                                  1\n",
       "Безопасность, службы охраны                             1\n",
       "Name: specialisation, dtype: int64"
      ]
     },
     "execution_count": 3,
     "metadata": {},
     "output_type": "execute_result"
    }
   ],
   "source": [
    "data['specialisation'].value_counts()"
   ]
  },
  {
   "cell_type": "code",
   "execution_count": 4,
   "id": "6b813d5a",
   "metadata": {},
   "outputs": [
    {
     "data": {
      "text/plain": [
       "Полная занятость       87\n",
       "Частичная занятость    13\n",
       "Name: employment, dtype: int64"
      ]
     },
     "execution_count": 4,
     "metadata": {},
     "output_type": "execute_result"
    }
   ],
   "source": [
    "data['employment'].value_counts()"
   ]
  },
  {
   "cell_type": "code",
   "execution_count": 5,
   "id": "9363224f",
   "metadata": {},
   "outputs": [
    {
     "data": {
      "text/plain": [
       "28"
      ]
     },
     "execution_count": 5,
     "metadata": {},
     "output_type": "execute_result"
    }
   ],
   "source": [
    "data['company_name'].nunique()"
   ]
  },
  {
   "cell_type": "code",
   "execution_count": 6,
   "id": "c04d822f",
   "metadata": {},
   "outputs": [
    {
     "data": {
      "text/plain": [
       "employment\n",
       "Полная занятость       33292.574713\n",
       "Частичная занятость    14759.461538\n",
       "Name: salary, dtype: float64"
      ]
     },
     "execution_count": 6,
     "metadata": {},
     "output_type": "execute_result"
    }
   ],
   "source": [
    "# средняя зарплата (сначала почистим поле от букв и преобразуем к int)\n",
    "data['salary'] = data['salary'].fillna(\"0\").apply(lambda x: int(x.replace(\"от \", \"\")), 1)\n",
    "data.groupby('employment')['salary'].mean()"
   ]
  },
  {
   "cell_type": "code",
   "execution_count": null,
   "id": "a7f1fcd5",
   "metadata": {},
   "outputs": [],
   "source": []
  },
  {
   "cell_type": "code",
   "execution_count": null,
   "id": "791f158e",
   "metadata": {},
   "outputs": [],
   "source": []
  }
 ],
 "metadata": {
  "kernelspec": {
   "display_name": "Python 3",
   "language": "python",
   "name": "python3"
  },
  "language_info": {
   "codemirror_mode": {
    "name": "ipython",
    "version": 3
   },
   "file_extension": ".py",
   "mimetype": "text/x-python",
   "name": "python",
   "nbconvert_exporter": "python",
   "pygments_lexer": "ipython3",
   "version": "3.8.8"
  }
 },
 "nbformat": 4,
 "nbformat_minor": 5
}
